{
 "cells": [
  {
   "cell_type": "code",
   "execution_count": 29,
   "id": "3464bf25",
   "metadata": {},
   "outputs": [
    {
     "name": "stderr",
     "output_type": "stream",
     "text": [
      "c:\\Users\\adojeda\\OneDrive - deacero.com\\dev\\0_envs\\.bigquery\\Lib\\site-packages\\google\\cloud\\bigquery\\table.py:1900: UserWarning: BigQuery Storage module not found, fetch data with the REST endpoint instead.\n",
      "  warnings.warn(\n"
     ]
    }
   ],
   "source": [
    "import pandas as pd \n",
    "import numpy as np \n",
    "import os\n",
    "from google.cloud import bigquery\n",
    "from google.oauth2 import service_account\n",
    "# declaramos las credenciales al entorno de desarollo\n",
    "os.environ[\"GOOGLE_APPLICATION_CREDENTIALS\"] = \"..\\\\..\\\\bd\\\\0_docs\\\\datahub-deacero-adojeda.json\"\n",
    "\n",
    "def Consulta_BQ(consulta):\n",
    "    \"\"\" Funcion que convierte consultas tipo SQL EN PANDAS df\"\"\"\n",
    "    \n",
    "    client = bigquery.Client()\n",
    "\n",
    "    query = client.query(consulta)\n",
    "\n",
    "    df = query.to_dataframe(create_bqstorage_client=True)\n",
    "\n",
    "    #fact.nom_estado_consignado = fact.nom_estado_consignado.replace({'DISTRITO FEDERAL': 'CIUDAD DE MEXICO'})\n",
    "\n",
    "    #fact = fact.groupby([\"mes_anio\", \"nom_estado_consignado\"]).toneladas_facturadas.sum().unstack(-1).fillna(0)\n",
    "\n",
    "    df.sort_index(inplace=True, ascending=True)\n",
    "\n",
    "    return df\n",
    "\n",
    "query_str = \"\"\"SELECT \n",
    "FORMAT_DATE('%Y-%m-%d', PARSE_DATE('%B.%Y', mes_anio)) AS mes_anio,\n",
    "cla_cliente_unico, \n",
    "cla_cliente,\n",
    "#nom_grupo_estadistico1,\n",
    "sum(toneladas_facturadas) AS toneladas_facturadas\n",
    "FROM `datahub-deacero.mart_comercial.comercial`\n",
    "WHERE \n",
    "#nom_pais_consignado = \"MÉXICO\"\n",
    "#AND nom_grupo NOT IN ('EMPRESAS RELACIONADAS','TRASPASOS E INTEREMPRESAS')\n",
    "#AND nom_grupo_estadistico3  NOT LIKE '%REBAR%'\n",
    "mes_anio IS NOT NULL\n",
    "AND\n",
    "cla_cliente_unico IN (60886, 865, 46429, 22295, 60088, 60034, 12293, 35976, 58, 38022, 4857, 59898, 46140, 6152, 46180, 46563, 11406, 65691)\n",
    "AND fecha >= '2024-01-01'\n",
    "AND fecha < '2025-10-01'\n",
    "GROUP BY 1,2,3\n",
    "ORDER BY 1,2,3\n",
    "\"\"\"\n",
    "\n",
    "fact = Consulta_BQ(query_str)\n",
    "\n",
    "fact.toneladas_facturadas = fact.toneladas_facturadas.astype(float)\n",
    "\n",
    "map_cli = {60886 : 6,\n",
    "865: 6,\n",
    "46429 : 6,\n",
    "60088 : 6,\n",
    "22295: 7, \n",
    "11406: 7, \n",
    "65691: 7, \n",
    "60034 :8,\n",
    "12293:8,\n",
    "35976:8,\n",
    "58:8,\n",
    "38022:8,\n",
    "4857:8,\n",
    "59898:8,\n",
    "46140:8,\n",
    "6152:8,\n",
    "46180:8,\n",
    "46563:8}\n",
    "\n",
    "fact[\"START\"] = fact.cla_cliente_unico.map(map_cli)"
   ]
  },
  {
   "cell_type": "code",
   "execution_count": 30,
   "id": "14a06ace",
   "metadata": {},
   "outputs": [
    {
     "data": {
      "text/html": [
       "<div>\n",
       "<style scoped>\n",
       "    .dataframe tbody tr th:only-of-type {\n",
       "        vertical-align: middle;\n",
       "    }\n",
       "\n",
       "    .dataframe tbody tr th {\n",
       "        vertical-align: top;\n",
       "    }\n",
       "\n",
       "    .dataframe thead th {\n",
       "        text-align: right;\n",
       "    }\n",
       "</style>\n",
       "<table border=\"1\" class=\"dataframe\">\n",
       "  <thead>\n",
       "    <tr style=\"text-align: right;\">\n",
       "      <th></th>\n",
       "      <th>mes_anio</th>\n",
       "      <th>cla_cliente_unico</th>\n",
       "      <th>cla_cliente</th>\n",
       "      <th>toneladas_facturadas</th>\n",
       "      <th>START</th>\n",
       "    </tr>\n",
       "  </thead>\n",
       "  <tbody>\n",
       "    <tr>\n",
       "      <th>0</th>\n",
       "      <td>2024-01-01</td>\n",
       "      <td>58</td>\n",
       "      <td>53776</td>\n",
       "      <td>NaN</td>\n",
       "      <td>8</td>\n",
       "    </tr>\n",
       "    <tr>\n",
       "      <th>1</th>\n",
       "      <td>2024-01-01</td>\n",
       "      <td>58</td>\n",
       "      <td>818953</td>\n",
       "      <td>0.663</td>\n",
       "      <td>8</td>\n",
       "    </tr>\n",
       "    <tr>\n",
       "      <th>2</th>\n",
       "      <td>2024-01-01</td>\n",
       "      <td>865</td>\n",
       "      <td>64700</td>\n",
       "      <td>NaN</td>\n",
       "      <td>6</td>\n",
       "    </tr>\n",
       "    <tr>\n",
       "      <th>3</th>\n",
       "      <td>2024-01-01</td>\n",
       "      <td>865</td>\n",
       "      <td>804413</td>\n",
       "      <td>22.848</td>\n",
       "      <td>6</td>\n",
       "    </tr>\n",
       "    <tr>\n",
       "      <th>4</th>\n",
       "      <td>2024-01-01</td>\n",
       "      <td>4857</td>\n",
       "      <td>34894</td>\n",
       "      <td>3.948</td>\n",
       "      <td>8</td>\n",
       "    </tr>\n",
       "    <tr>\n",
       "      <th>...</th>\n",
       "      <td>...</td>\n",
       "      <td>...</td>\n",
       "      <td>...</td>\n",
       "      <td>...</td>\n",
       "      <td>...</td>\n",
       "    </tr>\n",
       "    <tr>\n",
       "      <th>474</th>\n",
       "      <td>2025-09-01</td>\n",
       "      <td>59898</td>\n",
       "      <td>826660</td>\n",
       "      <td>2.119</td>\n",
       "      <td>8</td>\n",
       "    </tr>\n",
       "    <tr>\n",
       "      <th>475</th>\n",
       "      <td>2025-09-01</td>\n",
       "      <td>60034</td>\n",
       "      <td>827532</td>\n",
       "      <td>NaN</td>\n",
       "      <td>8</td>\n",
       "    </tr>\n",
       "    <tr>\n",
       "      <th>476</th>\n",
       "      <td>2025-09-01</td>\n",
       "      <td>60088</td>\n",
       "      <td>827902</td>\n",
       "      <td>4.637</td>\n",
       "      <td>6</td>\n",
       "    </tr>\n",
       "    <tr>\n",
       "      <th>477</th>\n",
       "      <td>2025-09-01</td>\n",
       "      <td>60886</td>\n",
       "      <td>831192</td>\n",
       "      <td>25.416</td>\n",
       "      <td>6</td>\n",
       "    </tr>\n",
       "    <tr>\n",
       "      <th>478</th>\n",
       "      <td>2025-09-01</td>\n",
       "      <td>65691</td>\n",
       "      <td>835563</td>\n",
       "      <td>8.798</td>\n",
       "      <td>7</td>\n",
       "    </tr>\n",
       "  </tbody>\n",
       "</table>\n",
       "<p>479 rows × 5 columns</p>\n",
       "</div>"
      ],
      "text/plain": [
       "       mes_anio  cla_cliente_unico  cla_cliente  toneladas_facturadas  START\n",
       "0    2024-01-01                 58        53776                   NaN      8\n",
       "1    2024-01-01                 58       818953                 0.663      8\n",
       "2    2024-01-01                865        64700                   NaN      6\n",
       "3    2024-01-01                865       804413                22.848      6\n",
       "4    2024-01-01               4857        34894                 3.948      8\n",
       "..          ...                ...          ...                   ...    ...\n",
       "474  2025-09-01              59898       826660                 2.119      8\n",
       "475  2025-09-01              60034       827532                   NaN      8\n",
       "476  2025-09-01              60088       827902                 4.637      6\n",
       "477  2025-09-01              60886       831192                25.416      6\n",
       "478  2025-09-01              65691       835563                 8.798      7\n",
       "\n",
       "[479 rows x 5 columns]"
      ]
     },
     "execution_count": 30,
     "metadata": {},
     "output_type": "execute_result"
    }
   ],
   "source": [
    "fact"
   ]
  },
  {
   "cell_type": "code",
   "execution_count": 36,
   "id": "b6d6938e",
   "metadata": {},
   "outputs": [
    {
     "data": {
      "text/plain": [
       "<Axes: xlabel='mes_anio'>"
      ]
     },
     "execution_count": 36,
     "metadata": {},
     "output_type": "execute_result"
    },
    {
     "data": {
      "image/png": "[encoded data removed]",
      "text/plain": [
       "<Figure size 640x480 with 1 Axes>"
      ]
     },
     "metadata": {},
     "output_type": "display_data"
    }
   ],
   "source": [
    "fact.groupby([\"mes_anio\", \"START\"]).agg({\"cla_cliente_unico\": \"nunique\", \"cla_cliente\":\"nunique\", \"toneladas_facturadas\":\"mean\"}).toneladas_facturadas.unstack(-1).plot(kind = \"bar\")"
   ]
  },
  {
   "cell_type": "code",
   "execution_count": null,
   "id": "6f221f97",
   "metadata": {},
   "outputs": [
    {
     "data": {
      "text/plain": [
       "<Axes: xlabel='mes_anio'>"
      ]
     },
     "execution_count": 38,
     "metadata": {},
     "output_type": "execute_result"
    },
    {
     "data": {
      "image/png": "[encoded data removed]",
      "text/plain": [
       "<Figure size 640x480 with 1 Axes>"
      ]
     },
     "metadata": {},
     "output_type": "display_data"
    }
   ],
   "source": [
    "fact.groupby([\"mes_anio\", \"START\"]).agg({\"cla_cliente_unico\": \"nunique\", \"cla_cliente\":\"nunique\", \"toneladas_facturadas\":\"sum\"}).toneladas_facturadas.unstack(-1).plot(kind = \"bar\", fig)"
   ]
  },
  {
   "cell_type": "code",
   "execution_count": null,
   "id": "4245c334",
   "metadata": {},
   "outputs": [
    {
     "data": {
      "text/plain": [
       "41"
      ]
     },
     "execution_count": 10,
     "metadata": {},
     "output_type": "execute_result"
    }
   ],
   "source": [
    "fact.cla_cliente_unico.nunique()\n",
    "\n",
    "fact"
   ]
  }
 ],
 "metadata": {
  "kernelspec": {
   "display_name": ".bigquery",
   "language": "python",
   "name": "python3"
  },
  "language_info": {
   "codemirror_mode": {
    "name": "ipython",
    "version": 3
   },
   "file_extension": ".py",
   "mimetype": "text/x-python",
   "name": "python",
   "nbconvert_exporter": "python",
   "pygments_lexer": "ipython3",
   "version": "3.12.6"
  }
 },
 "nbformat": 4,
 "nbformat_minor": 5
}
